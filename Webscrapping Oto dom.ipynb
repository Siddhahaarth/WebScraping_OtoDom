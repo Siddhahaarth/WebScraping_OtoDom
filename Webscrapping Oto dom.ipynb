{
 "cells": [
  {
   "cell_type": "code",
   "execution_count": 1,
   "metadata": {},
   "outputs": [],
   "source": [
    "from selenium import webdriver\n",
    "\n",
    "import requests\n",
    "import pandas as pd\n",
    "import matplotlib.pyplot as plt\n",
    "from bs4 import BeautifulSoup, element\n",
    "import time\n",
    "from selenium.webdriver.chrome.service import Service\n",
    "from webdriver_manager.chrome import ChromeDriverManager\n",
    "from selenium.webdriver.common.action_chains import ActionChains\n"
   ]
  },
  {
   "cell_type": "code",
   "execution_count": 2,
   "metadata": {},
   "outputs": [],
   "source": [
    "from selenium.webdriver.support.ui import WebDriverWait\n",
    "from selenium.webdriver.support import expected_conditions as EC\n",
    "from selenium.webdriver.common.by import By\n",
    "\n",
    "from selenium.webdriver.common.action_chains import ActionChains"
   ]
  },
  {
   "cell_type": "code",
   "execution_count": 163,
   "metadata": {},
   "outputs": [],
   "source": [
    "driver = webdriver.Chrome(service=Service(ChromeDriverManager().install()))\n",
    "driver.get('https://www.otodom.pl/')\n"
   ]
  },
  {
   "cell_type": "code",
   "execution_count": 164,
   "metadata": {},
   "outputs": [],
   "source": [
    "# Close Cookies banner\n",
    "cookie_banner = driver.find_element(By.ID,'onetrust-accept-btn-handler')\n",
    "cookie_banner.click()"
   ]
  },
  {
   "cell_type": "code",
   "execution_count": 165,
   "metadata": {},
   "outputs": [],
   "source": [
    "estate_search_input = driver.find_element(By.XPATH,\"//div[@class='react-select__indicators css-1wy0on6']\")\n",
    "estate_search_input.click()"
   ]
  },
  {
   "cell_type": "code",
   "execution_count": 166,
   "metadata": {},
   "outputs": [],
   "source": [
    "estate_type = driver.find_element(By.ID,'react-select-estate-option-2')   ## change 0-5 to select diff options\n",
    "#estate_type = driver.find_element(By.XPATH,\"//div[@id='react-select-estate-option-0']\")  \n",
    "estate_type.click()"
   ]
  },
  {
   "cell_type": "code",
   "execution_count": 167,
   "metadata": {},
   "outputs": [],
   "source": [
    "estate_search_input2 = driver.find_element(By.XPATH,\"//div[@class='css-1ryidgr e1fy8c750']\")\n",
    "estate_search_input2.click()\n",
    "estate_search_input2 = driver.find_element(By.XPATH,\"//div[@class='css-1ryidgr e1fy8c750']\")\n",
    "estate_search_input2.click()"
   ]
  },
  {
   "cell_type": "code",
   "execution_count": 168,
   "metadata": {},
   "outputs": [],
   "source": [
    "estate_type = driver.find_element(By.ID,'react-select-transaction-option-0')   ## change 0-5 to select diff options\n",
    "#estate_type = driver.find_element(By.XPATH,\"//div[@id='react-select-estate-option-0']\")  \n",
    "estate_type.click()"
   ]
  },
  {
   "cell_type": "code",
   "execution_count": 169,
   "metadata": {},
   "outputs": [],
   "source": [
    "estate_search_input3 = driver.find_element(By.XPATH,\"//div[@class='css-evbfge e1xubazb2']\")\n",
    "estate_search_input3.click()"
   ]
  },
  {
   "cell_type": "code",
   "execution_count": 170,
   "metadata": {},
   "outputs": [],
   "source": [
    "estate_search_input3 = driver.find_element(By.XPATH,\"//input[@class='ehxn9ut1 css-eij8d2 eiqkskw0']\")\n",
    "estate_search_input3.click()"
   ]
  },
  {
   "cell_type": "code",
   "execution_count": 156,
   "metadata": {},
   "outputs": [
    {
     "ename": "SyntaxError",
     "evalue": "invalid syntax (<ipython-input-156-ceec06533767>, line 1)",
     "output_type": "error",
     "traceback": [
      "\u001b[1;36m  File \u001b[1;32m\"<ipython-input-156-ceec06533767>\"\u001b[1;36m, line \u001b[1;32m1\u001b[0m\n\u001b[1;33m    <input autocomplete=\"off\" type=\"text\" aria-label=\"Wpisz nazwę lokalizacji\" placeholder=\"Wpisz nazwę lokalizacji\" data-cy=\"location-picker-input\" id=\"location-picker-input\" class=\"ehxn9ut1 css-eij8d2 eiqkskw0\">\u001b[0m\n\u001b[1;37m    ^\u001b[0m\n\u001b[1;31mSyntaxError\u001b[0m\u001b[1;31m:\u001b[0m invalid syntax\n"
     ]
    }
   ],
   "source": [
    "<input autocomplete=\"off\" type=\"text\" aria-label=\"Wpisz nazwę lokalizacji\" placeholder=\"Wpisz nazwę lokalizacji\" data-cy=\"location-picker-input\" id=\"location-picker-input\" class=\"ehxn9ut1 css-eij8d2 eiqkskw0\">"
   ]
  },
  {
   "cell_type": "code",
   "execution_count": 171,
   "metadata": {},
   "outputs": [],
   "source": [
    "estate_search_input3.send_keys('Warszawa')\n",
    "estate_search_input3.send_keys(Keys.ENTER)"
   ]
  },
  {
   "cell_type": "code",
   "execution_count": null,
   "metadata": {},
   "outputs": [],
   "source": [
    "estate_purpose_field =driver.find_element(By.XPATH,\"//input[@name='investmentEstateType']\")\n",
    "#ActionChains(driver).move_to_element(estate_purpose_field).perform()\n",
    "estate_purpose_field.click()\n"
   ]
  },
  {
   "cell_type": "code",
   "execution_count": null,
   "metadata": {},
   "outputs": [],
   "source": [
    "filter_3_star = driver.find_element(By.XPATH,\"//div[@class='react-select__indicator react-select__dropdown-indicator css-tlfecz-indicatorContainer']\")\n",
    "\n",
    "ActionChains(driver).move_to_element(filter_3_star).perform()\n",
    "\n",
    "filter_3_star.click()"
   ]
  },
  {
   "cell_type": "code",
   "execution_count": null,
   "metadata": {},
   "outputs": [],
   "source": [
    "<input name=\"investmentEstateType\" type=\"hidden\" value=\"\">\n",
    "<input name=\"investmentEstateType\" type=\"hidden\" value=\"\">\n",
    "<div class=\"react-select__indicators css-1wy0on6\"><div class=\"react-select__indicator react-select__dropdown-indicator css-tlfecz-indicatorContainer\" aria-hidden=\"true\"><svg height=\"20\" width=\"20\" viewBox=\"0 0 20 20\" aria-hidden=\"true\" focusable=\"false\" class=\"css-8mmkcg\"><path d=\"M4.516 7.548c0.436-0.446 1.043-0.481 1.576 0l3.908 3.747 3.908-3.747c0.533-0.481 1.141-0.446 1.574 0 0.436 0.445 0.408 1.197 0 1.615-0.406 0.418-4.695 4.502-4.695 4.502-0.217 0.223-0.502 0.335-0.787 0.335s-0.57-0.112-0.789-0.335c0 0-4.287-4.084-4.695-4.502s-0.436-1.17 0-1.615z\"></path></svg></div></div>"
   ]
  },
  {
   "cell_type": "markdown",
   "metadata": {},
   "source": []
  },
  {
   "cell_type": "code",
   "execution_count": null,
   "metadata": {},
   "outputs": [],
   "source": [
    "pip install shub --user"
   ]
  },
  {
   "cell_type": "code",
   "execution_count": null,
   "metadata": {},
   "outputs": [],
   "source": []
  }
 ],
 "metadata": {
  "kernelspec": {
   "display_name": "base",
   "language": "python",
   "name": "python3"
  },
  "language_info": {
   "codemirror_mode": {
    "name": "ipython",
    "version": 3
   },
   "file_extension": ".py",
   "mimetype": "text/x-python",
   "name": "python",
   "nbconvert_exporter": "python",
   "pygments_lexer": "ipython3",
   "version": "3.8.8"
  },
  "orig_nbformat": 4
 },
 "nbformat": 4,
 "nbformat_minor": 2
}
