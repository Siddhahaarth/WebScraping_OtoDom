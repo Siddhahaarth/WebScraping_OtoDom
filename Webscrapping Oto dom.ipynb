{
 "cells": [
  {
   "cell_type": "code",
   "execution_count": 1,
   "metadata": {},
   "outputs": [],
   "source": [
    "from selenium import webdriver\n",
    "\n",
    "import requests\n",
    "import pandas as pd\n",
    "import matplotlib.pyplot as plt\n",
    "from bs4 import BeautifulSoup, element\n",
    "import time\n",
    "from selenium.webdriver.chrome.service import Service\n",
    "from webdriver_manager.chrome import ChromeDriverManager\n",
    "from selenium.webdriver.common.action_chains import ActionChains\n"
   ]
  },
  {
   "cell_type": "code",
   "execution_count": 2,
   "metadata": {},
   "outputs": [],
   "source": [
    "from selenium.webdriver.support.ui import WebDriverWait\n",
    "from selenium.webdriver.support import expected_conditions as EC\n",
    "from selenium.webdriver.common.by import By\n",
    "\n",
    "from selenium.webdriver.common.action_chains import ActionChains"
   ]
  },
  {
   "cell_type": "code",
   "execution_count": 172,
   "metadata": {},
   "outputs": [],
   "source": [
    "driver = webdriver.Chrome(service=Service(ChromeDriverManager().install())) #get to the website\n",
    "driver.get('https://www.otodom.pl/')\n"
   ]
  },
  {
   "cell_type": "code",
   "execution_count": 173,
   "metadata": {},
   "outputs": [],
   "source": [
    "# Close Cookies banner\n",
    "cookie_banner = driver.find_element(By.ID,'onetrust-accept-btn-handler')\n",
    "cookie_banner.click()"
   ]
  },
  {
   "cell_type": "code",
   "execution_count": 176,
   "metadata": {},
   "outputs": [],
   "source": [
    "estate_search_input = driver.find_element(By.XPATH,\"//div[@class='react-select__indicators css-1wy0on6']\") #Open list to select Estate type\n",
    "estate_search_input.click()"
   ]
  },
  {
   "cell_type": "code",
   "execution_count": 177,
   "metadata": {},
   "outputs": [],
   "source": [
    "estate_type = driver.find_element(By.ID,'react-select-estate-option-2')   ## change 0-5 to select diff options for Estate\n",
    "#estate_type = driver.find_element(By.XPATH,\"//div[@id='react-select-estate-option-0']\")  \n",
    "estate_type.click()"
   ]
  },
  {
   "cell_type": "code",
   "execution_count": 179,
   "metadata": {},
   "outputs": [],
   "source": [
    "estate_search_input2 = driver.find_element(By.XPATH,\"//div[@class='css-1ryidgr e1fy8c750']\") #Open list to choose purpose\n",
    "estate_search_input2.click()\n",
    "estate_search_input2 = driver.find_element(By.XPATH,\"//div[@class='css-1ryidgr e1fy8c750']\")\n",
    "estate_search_input2.click()"
   ]
  },
  {
   "cell_type": "code",
   "execution_count": 180,
   "metadata": {},
   "outputs": [],
   "source": [
    "estate_type = driver.find_element(By.ID,'react-select-transaction-option-0')   ## change 0-1 to choose rent/sale\n",
    "#estate_type = driver.find_element(By.XPATH,\"//div[@id='react-select-estate-option-0']\")  \n",
    "estate_type.click()"
   ]
  },
  {
   "cell_type": "code",
   "execution_count": 182,
   "metadata": {},
   "outputs": [],
   "source": [
    "estate_search_input3 = driver.find_element(By.XPATH,\"//div[@class='css-evbfge e1xubazb2']\") #Open list to pick the region/City\n",
    "estate_search_input3.click()"
   ]
  },
  {
   "cell_type": "code",
   "execution_count": 183,
   "metadata": {},
   "outputs": [],
   "source": [
    "estate_search_input3 = driver.find_element(By.XPATH,\"//input[@class='ehxn9ut1 css-eij8d2 eiqkskw0']\") # to move the cursor to the search bar\n",
    "estate_search_input3.click()"
   ]
  },
  {
   "cell_type": "code",
   "execution_count": 184,
   "metadata": {},
   "outputs": [],
   "source": [
    "estate_search_input3.send_keys('Warszawa') # to enter the city \n",
    "estate_search_input3.send_keys(Keys.ENTER) #press enter "
   ]
  },
  {
   "cell_type": "code",
   "execution_count": null,
   "metadata": {},
   "outputs": [],
   "source": [
    "estate_purpose_field =driver.find_element(By.XPATH,\"//input[@name='investmentEstateType']\")\n",
    "#ActionChains(driver).move_to_element(estate_purpose_field).perform()\n",
    "estate_purpose_field.click()\n"
   ]
  },
  {
   "cell_type": "code",
   "execution_count": null,
   "metadata": {},
   "outputs": [],
   "source": [
    "filter_3_star = driver.find_element(By.XPATH,\"//div[@class='react-select__indicator react-select__dropdown-indicator css-tlfecz-indicatorContainer']\")\n",
    "\n",
    "ActionChains(driver).move_to_element(filter_3_star).perform()\n",
    "\n",
    "filter_3_star.click()"
   ]
  }
 ],
 "metadata": {
  "kernelspec": {
   "display_name": "base",
   "language": "python",
   "name": "python3"
  },
  "language_info": {
   "codemirror_mode": {
    "name": "ipython",
    "version": 3
   },
   "file_extension": ".py",
   "mimetype": "text/x-python",
   "name": "python",
   "nbconvert_exporter": "python",
   "pygments_lexer": "ipython3",
   "version": "3.8.8"
  },
  "orig_nbformat": 4
 },
 "nbformat": 4,
 "nbformat_minor": 2
}
